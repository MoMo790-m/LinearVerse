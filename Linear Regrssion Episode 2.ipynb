{
 "cells": [
  {
   "cell_type": "markdown",
   "metadata": {},
   "source": [
    "# ***Hypothesis Function***\n",
    "\n",
    "Alright, let's dive into the fun part of linear regression. First, we need to understand the basic assumptions.  \n",
    "\n",
    "There are two main assumptions:  \n",
    "\n",
    "1. **Linearity**  \n",
    "   This means there's a relationship between the independent variable $X$ and the dependent variable **$Y$**. For example, the more experience you have, the higher your salary. Think of it like this: If a chef spends more years in the kitchen, their food (hopefully) gets better, and they get paid more.  \n",
    "\n",
    "2. **Independence**  \n",
    "   This means that the observations in the dataset don’t influence each other. If one data point has an error, it doesn’t affect the others. Imagine if one student's bad exam grade caused another student's grade to drop too – that would be weird, right? Luckily, that’s not how independent data works.  \n",
    "\n",
    "\n",
    "**Now, let’s get to the math.**  \n",
    "\n",
    "If we assume a linear relationship between experience ($X$) and salary ($Y$), we can predict salaries using this formula:\n",
    "\n",
    "\n",
    "$$\n",
    "\\hat{Y} = \\theta_1 + \\theta_2 X\n",
    "$$\n",
    "\n",
    "*Or, for individual data points:*\n",
    "\n",
    "$$\n",
    "\\hat{y}_i = \\theta_1 + \\theta_2 x_i\n",
    "$$\n",
    "\n",
    "Where:  \n",
    "\n",
    "- $ \\hat{Y} $ is the predicted salary  \n",
    "- $ \\theta_1 $ is the intercept (the starting salary when experience is zero)  \n",
    "- $ \\theta_2 $ is the coefficient of $X$ (how much salary increases per year of experience)  \n",
    "- $ x_i $ is the given experience   \n",
    "\n",
    "**Our goal is to find the best values for $ \\theta_1 $ and $ \\theta_2 $ so that the line fits the data as well as possible. Once we get those values, we can use our model to predict salaries for any given experience level.**\n"
   ]
  }
 ],
 "metadata": {
  "language_info": {
   "name": "python"
  }
 },
 "nbformat": 4,
 "nbformat_minor": 2
}
